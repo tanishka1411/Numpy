{
 "cells": [
  {
   "cell_type": "markdown",
   "id": "9734f2dd",
   "metadata": {},
   "source": [
    "A regular expression (or RE) specifies a set of strings that matches it; the functions in this module let you check if a particular string matches a given regular expression (or if a given regular expression matches a particular string, which comes down to the same thing).\n"
   ]
  },
  {
   "cell_type": "markdown",
   "id": "46e425a9",
   "metadata": {},
   "source": [
    "\n",
    "`.`       \\- Any Character Except New Line\n",
    "\n",
    "`\\d`      \\- Digit (0-9)\n",
    "\n",
    "`\\D`      \\- Not a Digit (0-9)\n",
    "\n",
    "`\\w`      \\- Word Character (a-z, A-Z, 0-9, _)\n",
    "\n",
    "`\\W`      - Not a Word Character\n",
    "\n",
    "`\\s`      - Whitespace (space, tab, newline)\n",
    "\n",
    "`\\S`      - Not Whitespace (space, tab, newline)\n",
    "\n",
    "\n",
    "`\\b`      - Word Boundary\n",
    "\n",
    "`\\B`      - Not a Word Boundary\n",
    "\n",
    "`^`       - Beginning of a String\n",
    "\n",
    "`$`       - End of a String\n",
    "\n",
    "\n",
    "`[]`      - Matches Characters in brackets\n",
    "\n",
    "`[^ ]`   - Matches Characters NOT in brackets\n",
    "\n",
    "`|`       - Either Or\n",
    "\n",
    "`( )`     - Group\n",
    "\n",
    "**Quantifiers:**\n",
    "\n",
    "`\\*`      \\- 0 or More\n",
    "\n",
    "`\\+`      \\- 1 or More\n",
    "\n",
    "`?`       \\- 0 or One\n",
    "\n",
    "`{3}`     \\- Exact Number\n",
    "\n",
    "`{3,4}`   \\- Range of Numbers (Minimum, Maximum)\n",
    "\n",
    "\n",
    "### Sample Regexs\n",
    "\n",
    "`[a-zA-Z0-9_.+-]+@[a-zA-Z0-9-]+\\.[a-zA-Z0-9-.]+`"
   ]
  },
  {
   "cell_type": "code",
   "execution_count": 1,
   "id": "f8eccc1e",
   "metadata": {},
   "outputs": [],
   "source": [
    "import re"
   ]
  },
  {
   "cell_type": "code",
   "execution_count": 2,
   "id": "a292463d",
   "metadata": {},
   "outputs": [
    {
     "name": "stdout",
     "output_type": "stream",
     "text": [
      "Wonderful!\n"
     ]
    }
   ],
   "source": [
    "text = \"This is good a day.\"\n",
    "\n",
    "if re.search(\"good\", text): # the first parameter here is the pattern\n",
    "    print(\"Wonderful!\")\n",
    "else:\n",
    "    print(\"Alas :(\")"
   ]
  },
  {
   "cell_type": "code",
   "execution_count": 3,
   "id": "1fa70cb5",
   "metadata": {},
   "outputs": [
    {
     "data": {
      "text/plain": [
       "['',\n",
       " ' works diligently. ',\n",
       " ' gets good grades. Our student ',\n",
       " ' is succesful.']"
      ]
     },
     "execution_count": 3,
     "metadata": {},
     "output_type": "execute_result"
    }
   ],
   "source": [
    "# In addition to checking for conditionals, we can segment a string. The work that regex does here is called\n",
    "# tokenizing, where the string is separated into substrings based on patterns. Tokenizing is a core activity\n",
    "# in natural language processing.\n",
    "\n",
    "# The findall() and split() functions will parse the string for us and return chunks.\n",
    "text = \"Amy works diligently. Amy gets good grades. Our student Amy is succesful.\"\n",
    "\n",
    "# This is a bit of a fabricated example, but lets split this on all instances of Amy\n",
    "re.split(\"Amy\", text)"
   ]
  },
  {
   "cell_type": "code",
   "execution_count": 4,
   "id": "9d9197e1",
   "metadata": {},
   "outputs": [
    {
     "name": "stdout",
     "output_type": "stream",
     "text": [
      "['Amy', 'Amy', 'Amy']\n",
      "3\n"
     ]
    }
   ],
   "source": [
    "print(re.findall(\"Amy\", text))\n",
    "print(len(re.findall('Amy', text)))"
   ]
  },
  {
   "cell_type": "code",
   "execution_count": 5,
   "id": "e30ca458",
   "metadata": {},
   "outputs": [],
   "source": [
    "# .search() looks for some pattern and returns a boolean, that .split() will use a\n",
    "# pattern for creating a list of substrings, and that .findall() will look for a pattern and pull out all\n",
    "# occurences."
   ]
  },
  {
   "cell_type": "code",
   "execution_count": 6,
   "id": "9376480f",
   "metadata": {},
   "outputs": [
    {
     "data": {
      "text/plain": [
       "<re.Match object; span=(0, 3), match='Amy'>"
      ]
     },
     "execution_count": 6,
     "metadata": {},
     "output_type": "execute_result"
    }
   ],
   "source": [
    "# Now that we know how the python regex API works, lets talk about more complex patterns. The regex\n",
    "# specification standard defines a markup language to describe patterns in text. Lets start with anchors.\n",
    "# Anchors specify the start and/or the end of the string that you are trying to match. The caret character ^\n",
    "# means start and the dollar sign character $ means end. If you put ^ before a string, it means that the text\n",
    "# the regex processor retrieves must start with the string you specify. For ending, you have to put the $\n",
    "# character after the string, it means that the text Regex retrieves must end with the string you specify.\n",
    "\n",
    "# Here's an example\n",
    "text = \"Amy works diligently. Amy gets good grades. Our student Amy is succesful.\"\n",
    "\n",
    "# Lets see if this begins with Amy\n",
    "re.search(\"^Amy\",text)"
   ]
  },
  {
   "cell_type": "code",
   "execution_count": 7,
   "id": "6e15a3bf",
   "metadata": {},
   "outputs": [],
   "source": [
    "s=re.compile(r\"tan\")\n",
    "text=\"\"\"tanishka is a girl\n",
    "she studied in chandigarh univaersity. tanishka love to dance\"\"\""
   ]
  },
  {
   "cell_type": "code",
   "execution_count": 8,
   "id": "9031d931",
   "metadata": {},
   "outputs": [
    {
     "name": "stdout",
     "output_type": "stream",
     "text": [
      "<callable_iterator object at 0x000002458499EAF0>\n",
      "<re.Match object; span=(0, 3), match='tan'>\n",
      "<re.Match object; span=(58, 61), match='tan'>\n"
     ]
    }
   ],
   "source": [
    "matches= s.finditer(text)\n",
    "print(matches)\n",
    "\n",
    "for i in matches:\n",
    "    print(i)"
   ]
  },
  {
   "cell_type": "code",
   "execution_count": 9,
   "id": "2e66248e",
   "metadata": {},
   "outputs": [
    {
     "name": "stdout",
     "output_type": "stream",
     "text": [
      "tan\n"
     ]
    }
   ],
   "source": [
    "print(text[0:3])"
   ]
  },
  {
   "cell_type": "markdown",
   "id": "abac9243",
   "metadata": {},
   "source": [
    "^ (Caret.) Matches the start of the string, and in MULTILINE mode also matches immediately after each newline."
   ]
  },
  {
   "cell_type": "code",
   "execution_count": 10,
   "id": "4b6780cc",
   "metadata": {},
   "outputs": [
    {
     "name": "stdout",
     "output_type": "stream",
     "text": [
      "<re.Match object; span=(0, 1), match='t'>\n"
     ]
    }
   ],
   "source": [
    "s=re.compile(r\"^[a-z]\")\n",
    "matches= s.finditer(text)\n",
    "for i in matches:\n",
    "    print(i)"
   ]
  },
  {
   "cell_type": "code",
   "execution_count": 11,
   "id": "e8dd1c9e",
   "metadata": {},
   "outputs": [
    {
     "name": "stdout",
     "output_type": "stream",
     "text": [
      "<re.Match object; span=(8, 9), match=' '>\n",
      "<re.Match object; span=(11, 12), match=' '>\n",
      "<re.Match object; span=(13, 14), match=' '>\n",
      "<re.Match object; span=(18, 19), match='\\n'>\n",
      "<re.Match object; span=(22, 23), match=' '>\n",
      "<re.Match object; span=(30, 31), match=' '>\n",
      "<re.Match object; span=(33, 34), match=' '>\n",
      "<re.Match object; span=(44, 45), match=' '>\n",
      "<re.Match object; span=(56, 57), match='.'>\n",
      "<re.Match object; span=(57, 58), match=' '>\n",
      "<re.Match object; span=(66, 67), match=' '>\n",
      "<re.Match object; span=(71, 72), match=' '>\n",
      "<re.Match object; span=(74, 75), match=' '>\n"
     ]
    }
   ],
   "source": [
    "# But if used inside character set all the characters that are not in the set will be matched.\n",
    "s=re.compile(r\"[^a-z]\")\n",
    "matches= s.finditer(text)\n",
    "for i in matches:\n",
    "    print(i)\n",
    "\n",
    "# so here all the characters except a-z are matched"
   ]
  },
  {
   "cell_type": "code",
   "execution_count": 12,
   "id": "fef6357f",
   "metadata": {},
   "outputs": [
    {
     "name": "stdout",
     "output_type": "stream",
     "text": [
      "<re.Match object; span=(0, 18), match='tanishka@email.com'>\n",
      "<re.Match object; span=(20, 37), match='12hello@email.com'>\n",
      "<re.Match object; span=(38, 62), match='World2.23@university.net'>\n"
     ]
    }
   ],
   "source": [
    "emails=\"\"\"tanishka@email.com \n",
    "12hello@email.com\n",
    "World2.23@university.net\n",
    "email@email-com\"\"\"\n",
    "\n",
    "pattern=re.compile(r\"[\\w.]+@\\w+[.]\\w+\")\n",
    "# or\n",
    "# pattern=re.compile(r\"[a-zA-Z0-9.]+@[a-zA-Z]+[.][a-zA-Z]+\")\n",
    "# pattern=re.compile(r\"[a-zA-Z0-9.]+@[a-zA-Z]+[.](net|com)\")\n",
    "matches = pattern.finditer(emails)\n",
    "for i in matches:\n",
    "    print(i)"
   ]
  },
  {
   "cell_type": "code",
   "execution_count": 13,
   "id": "1a676426",
   "metadata": {},
   "outputs": [
    {
     "name": "stdout",
     "output_type": "stream",
     "text": [
      ".com\n",
      ".com\n",
      ".com\n",
      ".gov\n"
     ]
    }
   ],
   "source": [
    "urls = '''\n",
    "https://www.google.com\n",
    "http://coreyms.com\n",
    "https://youtube.com\n",
    "https://www.nasa.gov\n",
    "'''\n",
    "\n",
    "pattern = re.compile(r'https?://(www\\.)?(\\w+)(\\.\\w+)')\n",
    "matches = pattern.finditer(urls)\n",
    "\n",
    "for match in matches:\n",
    "    print(match.group(3))"
   ]
  },
  {
   "cell_type": "markdown",
   "id": "19df553b",
   "metadata": {},
   "source": [
    "re.sub(pattern, repl, string, count=0, flags=0)\n",
    "Return the string obtained by replacing the leftmost non-overlapping occurrences of pattern in string by the replacement repl. If the pattern isn’t found, string is returned unchanged. repl can be a string or a function; if it is a string, any backslash escapes in it are processed."
   ]
  },
  {
   "cell_type": "code",
   "execution_count": 14,
   "id": "8c1f2047",
   "metadata": {},
   "outputs": [
    {
     "name": "stdout",
     "output_type": "stream",
     "text": [
      "\n",
      "google.com\n",
      "coreyms.com\n",
      "youtube.com\n",
      "nasa.gov\n",
      "\n"
     ]
    }
   ],
   "source": [
    "subbed_urls = pattern.sub(r'\\2\\3', urls)\n",
    "\n",
    "print(subbed_urls)"
   ]
  },
  {
   "cell_type": "code",
   "execution_count": 15,
   "id": "5559083c",
   "metadata": {},
   "outputs": [
    {
     "name": "stdout",
     "output_type": "stream",
     "text": [
      "<re.Match object; span=(0, 5), match='Start'>\n"
     ]
    }
   ],
   "source": [
    "sentence = 'Start a sentence and then bring it to an end'\n",
    "\n",
    "pattern = re.compile(r'start', re.I)\n",
    "# pattern = re.compile(r'start', re.IGNORECASE)\n",
    "matches = pattern.search(sentence)\n",
    "\n",
    "print(matches)"
   ]
  },
  {
   "cell_type": "code",
   "execution_count": 16,
   "id": "e45bd2c5",
   "metadata": {},
   "outputs": [
    {
     "name": "stdout",
     "output_type": "stream",
     "text": [
      "['she', 'she', 'she']\n"
     ]
    }
   ],
   "source": [
    "str = \"\"\"she is beautiful.\n",
    "she has black hairs.\n",
    "she study in 9th standard.\"\"\"\n",
    "pattern = re.compile(r\"she\")\n",
    "matches = pattern.findall(str)\n",
    "print(matches)"
   ]
  },
  {
   "cell_type": "markdown",
   "id": "9a0489f2",
   "metadata": {},
   "source": [
    "### Quantifiers\n",
    "Quantifiers are the number of times you want a pattern to be matched in order to match. The most basic quantifier is expressed as e{m,n}, where e is the expression or character we are matching, m is the minimum number of times you want it to matched, and n is the maximum number of times the item could be matched."
   ]
  },
  {
   "cell_type": "code",
   "execution_count": 17,
   "id": "cded4101",
   "metadata": {},
   "outputs": [
    {
     "data": {
      "text/plain": [
       "['AAAA', 'AA']"
      ]
     },
     "execution_count": 17,
     "metadata": {},
     "output_type": "execute_result"
    }
   ],
   "source": [
    "grades=\"ACAAAABCBCBAA\"\n",
    "re.findall('A{2,5}', grades)"
   ]
  },
  {
   "cell_type": "code",
   "execution_count": 18,
   "id": "9e4465f0",
   "metadata": {},
   "outputs": [
    {
     "name": "stdout",
     "output_type": "stream",
     "text": [
      "<re.Match object; span=(0, 1), match='A'>\n",
      "<re.Match object; span=(2, 5), match='AAA'>\n",
      "<re.Match object; span=(5, 6), match='A'>\n",
      "<re.Match object; span=(11, 13), match='AA'>\n"
     ]
    }
   ],
   "source": [
    "# We might try and do this using single values and just repeating the pattern\n",
    "matches=re.finditer(\"A{1,2}A{0,1}\",grades)\n",
    "for i in matches:\n",
    "    print(i)"
   ]
  },
  {
   "cell_type": "markdown",
   "id": "9c70bf69",
   "metadata": {},
   "source": [
    "### Groups"
   ]
  },
  {
   "cell_type": "code",
   "execution_count": 19,
   "id": "61fa8b96",
   "metadata": {},
   "outputs": [
    {
     "name": "stdout",
     "output_type": "stream",
     "text": [
      "Isaac Newton\n",
      "Isaac\n",
      "Newton\n",
      "('Isaac', 'Newton')\n"
     ]
    }
   ],
   "source": [
    "m = re.match(r\"(\\w+) (\\w+)\", \"Isaac Newton, physicist\")\n",
    "print(m.group(0))       # The entire match\n",
    "print(m.group(1))       # The first parenthesized subgroup.\n",
    "print(m.group(2))       # The second parenthesized subgroup.\n",
    "print(m.group(1, 2))    # Multiple arguments give us a tuple."
   ]
  },
  {
   "cell_type": "markdown",
   "id": "4735da0c",
   "metadata": {},
   "source": [
    "#### groupdict()\n",
    "we use the syntax (?P<name>), where the parethesis starts the group, the ?P indicates that this is an extension to basic regexes, and <name> is the dictionary key we want to use wrapped in <>."
   ]
  },
  {
   "cell_type": "code",
   "execution_count": 20,
   "id": "6fa9100d",
   "metadata": {},
   "outputs": [
    {
     "name": "stdout",
     "output_type": "stream",
     "text": [
      "Isaac\n"
     ]
    }
   ],
   "source": [
    "s = \"Isaac Newton, physicist\"\n",
    "for item in re.finditer(\"(?P<first_name>\\w+) (?P<last_name>\\w+)\",s):\n",
    "    # We can get the dictionary returned for the item with .groupdict()\n",
    "    print(item.groupdict()['first_name'])"
   ]
  },
  {
   "cell_type": "code",
   "execution_count": 21,
   "id": "cec5bd05",
   "metadata": {},
   "outputs": [
    {
     "name": "stdout",
     "output_type": "stream",
     "text": [
      "{'first_name': 'Isaac', 'last_name': 'Newton'}\n"
     ]
    }
   ],
   "source": [
    "print(item.groupdict())"
   ]
  },
  {
   "cell_type": "markdown",
   "id": "fe9ca406",
   "metadata": {},
   "source": [
    "### Look Ahead and Look Behind"
   ]
  },
  {
   "cell_type": "code",
   "execution_count": 22,
   "id": "67e8de9f",
   "metadata": {},
   "outputs": [],
   "source": [
    "# One more concept to be familiar with is called \"look ahead\" and \"look behind\" matching. In this case, the\n",
    "# pattern being given to the regex engine is for text either before or after the text we are trying to\n",
    "# isolate. For example, in our headers we want to isolate text which  comes before the [edit] rendering, but\n",
    "# we actually don't care about the [edit] text itself. Thus far we have been throwing the [edit] away, but if\n",
    "# we want to use them to match but don't want to capture them we could put them in a group and use look ahead\n",
    "# instead with ?= syntax\n",
    "s = \"Isaac Newton, physicist\"\n",
    "for item in re.finditer(\"(?P<title>\\w+) (?=P<edit_link>\\w+)\",s):\n",
    "    # We can get the dictionary returned for the item with .groupdict()\n",
    "    print(item.groupdict()['title'])"
   ]
  },
  {
   "cell_type": "code",
   "execution_count": 23,
   "id": "0d631200",
   "metadata": {},
   "outputs": [
    {
     "name": "stdout",
     "output_type": "stream",
     "text": [
      "<re.Match object; span=(0, 8), match='Mr. topi'>\n"
     ]
    }
   ],
   "source": [
    "st = \"\"\"Mr. topi\n",
    "Mr Sweet\n",
    "Mrs. Cute\"\"\"\n",
    "pattern = re.compile(r\"(Mr[.])+(\\s)(\\w)+\")\n",
    "match = pattern.finditer(st)\n",
    "for i in match:\n",
    "    print(i)"
   ]
  },
  {
   "cell_type": "code",
   "execution_count": 24,
   "id": "7d2ec4b5",
   "metadata": {},
   "outputs": [
    {
     "data": {
      "text/plain": [
       "[]"
      ]
     },
     "execution_count": 24,
     "metadata": {},
     "output_type": "execute_result"
    }
   ],
   "source": [
    "st = \"\"\"Mr. topi\n",
    "Mr Sweet\n",
    "Mrs. Cute\"\"\"\n",
    "pattern = re.compile(r\"(Mr[.])+(?=\\s)(\\w)+\")\n",
    "re.findall(pattern,st)"
   ]
  },
  {
   "cell_type": "markdown",
   "id": "d7dfeaee",
   "metadata": {},
   "source": [
    "https://regex101.com/"
   ]
  },
  {
   "cell_type": "code",
   "execution_count": 26,
   "id": "03827fe2",
   "metadata": {},
   "outputs": [
    {
     "name": "stdout",
     "output_type": "stream",
     "text": [
      "6\n"
     ]
    }
   ],
   "source": [
    "text=r'''Everyone has the following fundamental freedoms:\n",
    "    (a) freedom of conscience and religion;\n",
    "    (b) freedom of thought, belief, opinion and expression, including freedom of the press and other media of communication;\n",
    "    (c) freedom of peaceful assembly; and\n",
    "    (d) freedom of association.'''\n",
    "\n",
    "import re\n",
    "pattern = 'freedom'\n",
    "print(len(re.findall(pattern,text)))"
   ]
  },
  {
   "cell_type": "markdown",
   "id": "0a86ed10",
   "metadata": {},
   "source": [
    "`(?P=name)`\n",
    "A backreference to a named group; it matches whatever text was matched by the earlier group named name.\n",
    "\n",
    "`(?#...)`\n",
    "A comment; the contents of the parentheses are simply ignored.\n",
    "\n",
    "`(?=...)`\n",
    "Matches if ... matches next, but doesn’t consume any of the string. This is called a lookahead assertion. For example, Isaac (?=Asimov) will match 'Isaac ' only if it’s followed by 'Asimov'.\n",
    "\n",
    "`(?!...)`\n",
    "Matches if ... doesn’t match next. This is a negative lookahead assertion. For example, Isaac (?!Asimov) will match 'Isaac ' only if it’s not followed by 'Asimov'.\n",
    "\n",
    "`(?<=...)`\n",
    "Matches if the current position in the string is preceded by a match for ... that ends at the current position. This is called a positive lookbehind assertion.\n",
    "\n",
    "`(?<!...)`\n",
    "Matches if the current position in the string is not preceded by a match for .... This is called a negative lookbehind assertion.\n",
    "\n",
    "`(?(id/name)yes-pattern|no-pattern)`\n",
    "Will try to match with yes-pattern if the group with given id or name exists, and with no-pattern if it doesn’t. "
   ]
  },
  {
   "cell_type": "code",
   "execution_count": 35,
   "id": "3c6659ef",
   "metadata": {},
   "outputs": [
    {
     "data": {
      "text/plain": [
       "<re.Match object; span=(3, 5), match='le'>"
      ]
     },
     "execution_count": 35,
     "metadata": {},
     "output_type": "execute_result"
    }
   ],
   "source": [
    "str = \"apple is fruit\"\n",
    "pattern = r\"(?<=app)\\w*\"\n",
    "match=re.search(pattern, str)\n",
    "match"
   ]
  },
  {
   "cell_type": "code",
   "execution_count": 47,
   "id": "aa6b0c6d",
   "metadata": {},
   "outputs": [
    {
     "name": "stdout",
     "output_type": "stream",
     "text": [
      "sfeeekjkijvaaaovfg\n",
      "eee\n",
      "aaao\n"
     ]
    }
   ],
   "source": [
    "# prints only vowel if there is consonants on left right both\n",
    "s = '[qwrtypsdfghjklzxcvbnm]'\n",
    "a = re.findall('(?<=' + s +')([aeiou]{2,})' + s, input(), re.I)\n",
    "print('\\n'.join(a or ['-1']))"
   ]
  },
  {
   "cell_type": "code",
   "execution_count": 86,
   "id": "e6c8fbd3",
   "metadata": {},
   "outputs": [
    {
     "name": "stdout",
     "output_type": "stream",
     "text": [
      "aa\n",
      "aa\n",
      "aa\n"
     ]
    }
   ],
   "source": [
    "# prints only vowel if there is consonants on left right both\n",
    "c = '[qwrtypsdfghjklzxcvbnm]'\n",
    "v = '[aeiou]'\n",
    "s = \"abaabaabaabaae\"\n",
    "pattern = r\"(?<=[qwrtypsdfghjklzxcvbnm])([aeiou]{2,})[qwrtypsdfghjklzxcvbnm]\"\n",
    "match = re.findall(pattern, s, re.I)\n",
    "if len(match)>0:\n",
    "    for i in match:\n",
    "        print(i)\n",
    "else:\n",
    "    print('-1')"
   ]
  },
  {
   "cell_type": "markdown",
   "id": "8730a6b8",
   "metadata": {},
   "source": [
    "### Start and End functions"
   ]
  },
  {
   "cell_type": "code",
   "execution_count": 96,
   "id": "da42bca1",
   "metadata": {},
   "outputs": [
    {
     "name": "stdout",
     "output_type": "stream",
     "text": [
      "aaabaa\n",
      "aa\n",
      "(0, 1)\n",
      "(1, 2)\n",
      "(4, 5)\n"
     ]
    }
   ],
   "source": [
    "S=input()\n",
    "k=input()\n",
    "pattern = re.compile(k)\n",
    "r = pattern.search(S)\n",
    "if not r: print(\"(-1, -1)\")\n",
    "while r:\n",
    "    print (\"({0}, {1})\".format(r.start(), r.end() - 1))\n",
    "    r = pattern.search(S,r.start() + 1)"
   ]
  },
  {
   "cell_type": "markdown",
   "id": "fa92051f",
   "metadata": {},
   "source": [
    "#### \\number\n",
    "\n",
    "Matches the contents of the group of the same number. Groups are numbered starting from 1. For example, (.+) \\1 matches 'the the' or '55 55', but not 'thethe' (note the space after the group). This special sequence can only be used to match one of the first 99 groups. If the first digit of number is 0, or number is 3 octal digits long, it will not be interpreted as a group match, but as the character with octal value number. Inside the '[' and ']' of a character class, all numeric escapes are treated as characters."
   ]
  },
  {
   "cell_type": "code",
   "execution_count": 104,
   "id": "e48eed92",
   "metadata": {},
   "outputs": [
    {
     "name": "stdout",
     "output_type": "stream",
     "text": [
      "1\n"
     ]
    }
   ],
   "source": [
    "# \\1 matches the same text as most recently matched by the 1st capturing group\n",
    "\n",
    "s = '..12345678910111213141516171820212223'\n",
    "r='-1'\n",
    "match = re.search(r'([a-zA-Z0-9])\\1+', s)\n",
    "print(match.group(1) if match else -1)"
   ]
  },
  {
   "cell_type": "code",
   "execution_count": null,
   "id": "35ac09c9",
   "metadata": {},
   "outputs": [],
   "source": []
  }
 ],
 "metadata": {
  "kernelspec": {
   "display_name": "Python 3",
   "language": "python",
   "name": "python3"
  },
  "language_info": {
   "codemirror_mode": {
    "name": "ipython",
    "version": 3
   },
   "file_extension": ".py",
   "mimetype": "text/x-python",
   "name": "python",
   "nbconvert_exporter": "python",
   "pygments_lexer": "ipython3",
   "version": "3.9.5"
  }
 },
 "nbformat": 4,
 "nbformat_minor": 5
}
