{
 "cells": [
  {
   "cell_type": "markdown",
   "id": "eb872001",
   "metadata": {},
   "source": [
    "# File Handling"
   ]
  },
  {
   "cell_type": "code",
   "execution_count": 1,
   "id": "6ebece85",
   "metadata": {},
   "outputs": [
    {
     "name": "stdout",
     "output_type": "stream",
     "text": [
      "sample.txt\n",
      "r+\n"
     ]
    }
   ],
   "source": [
    "f = open('sample.txt', \"r+\")\n",
    "print(f.name)  #print the name of the file\n",
    "print(f.mode)  #print the mode in which file is opened\n",
    "f.close()  #close the file"
   ]
  },
  {
   "cell_type": "code",
   "execution_count": 2,
   "id": "126413a3",
   "metadata": {},
   "outputs": [
    {
     "name": "stdout",
     "output_type": "stream",
     "text": [
      "True\n"
     ]
    }
   ],
   "source": [
    "print(f.closed)"
   ]
  },
  {
   "cell_type": "markdown",
   "id": "b1ae8a01",
   "metadata": {},
   "source": [
    "<b>with</b> statement in your objects will ensure that you never leave any resource open. File opened will automatically be closed after it exit with block."
   ]
  },
  {
   "cell_type": "code",
   "execution_count": 3,
   "id": "ec92315e",
   "metadata": {},
   "outputs": [
    {
     "name": "stdout",
     "output_type": "stream",
     "text": [
      "hello \n",
      "this is a sample text file.\n",
      "say hi to python\n",
      "<class 'str'>\n",
      "True\n"
     ]
    }
   ],
   "source": [
    "# read\n",
    "\n",
    "with open('sample.txt', \"r\") as f:\n",
    "    fread= f.read()\n",
    "    print(fread)\n",
    "    print(type(fread))\n",
    "\n",
    "print(f.closed)"
   ]
  },
  {
   "cell_type": "code",
   "execution_count": 4,
   "id": "7e8013aa",
   "metadata": {},
   "outputs": [
    {
     "name": "stdout",
     "output_type": "stream",
     "text": [
      "['hello \\n', 'this is a sample text file.\\n', 'say hi to python']\n",
      "<class 'list'>\n"
     ]
    }
   ],
   "source": [
    "# readlines\n",
    "\n",
    "with open('sample.txt', \"r\") as f:\n",
    "    fread = f.readlines()\n",
    "    print(fread)\n",
    "    print(type(fread))"
   ]
  },
  {
   "cell_type": "code",
   "execution_count": 5,
   "id": "cc2e2ecb",
   "metadata": {},
   "outputs": [
    {
     "name": "stdout",
     "output_type": "stream",
     "text": [
      "hello \n",
      "\n",
      "<class 'str'>\n"
     ]
    }
   ],
   "source": [
    "# readline\n",
    "\n",
    "with open('sample.txt', \"r\") as f:\n",
    "    fread = f.readline()\n",
    "    print(fread)\n",
    "    print(type(fread))"
   ]
  },
  {
   "cell_type": "code",
   "execution_count": 6,
   "id": "02018516",
   "metadata": {},
   "outputs": [
    {
     "name": "stdout",
     "output_type": "stream",
     "text": [
      "hello \n",
      "\n",
      "this is a sample text file.\n",
      "\n"
     ]
    }
   ],
   "source": [
    "with open('sample.txt', \"r\") as f:\n",
    "    fread = f.readline()\n",
    "    print(fread)\n",
    "    \n",
    "    fread = f.readline()\n",
    "    print(fread)"
   ]
  },
  {
   "cell_type": "code",
   "execution_count": 7,
   "id": "e3c33bd6",
   "metadata": {},
   "outputs": [
    {
     "name": "stdout",
     "output_type": "stream",
     "text": [
      "hello \n",
      "this is a sample text file.\n"
     ]
    }
   ],
   "source": [
    "with open('sample.txt', \"r\") as f:\n",
    "    fread = f.readline()\n",
    "    print(fread, end=\"\")\n",
    "    \n",
    "    fread = f.readline()\n",
    "    print(fread, end=\"\")"
   ]
  },
  {
   "cell_type": "code",
   "execution_count": 8,
   "id": "b3257972",
   "metadata": {},
   "outputs": [
    {
     "name": "stdout",
     "output_type": "stream",
     "text": [
      "hello \n",
      "this is a sample text file.\n",
      "say hi to python"
     ]
    }
   ],
   "source": [
    "with open('sample.txt', \"r\") as f:\n",
    "    for line in f:\n",
    "        print(line, end=\"\")"
   ]
  },
  {
   "cell_type": "code",
   "execution_count": 9,
   "id": "dc08d129",
   "metadata": {},
   "outputs": [
    {
     "name": "stdout",
     "output_type": "stream",
     "text": [
      "hello \n",
      "thi\n"
     ]
    }
   ],
   "source": [
    "# print first 10 characters of file\n",
    "\n",
    "with open('sample.txt', \"r\") as f:\n",
    "    fread= f.read(10)\n",
    "    print(fread)"
   ]
  },
  {
   "cell_type": "markdown",
   "id": "88bb45e0",
   "metadata": {},
   "source": [
    "# File Positions\n",
    "The tell() method tells you the current position within the file; in other words, the next read or write will occur at that many bytes from the beginning of the file."
   ]
  },
  {
   "cell_type": "code",
   "execution_count": 10,
   "id": "574df27c",
   "metadata": {},
   "outputs": [
    {
     "name": "stdout",
     "output_type": "stream",
     "text": [
      "hello \n",
      "thi\n",
      "The current position within the file is 10\n",
      "s is a sample text f\n",
      "The current position within the file is 30\n"
     ]
    }
   ],
   "source": [
    "with open('sample.txt', \"r\") as f:\n",
    "    fread = f.read(10)\n",
    "    print(fread)\n",
    "    print(f'The current position within the file is {f.tell()}')\n",
    "    fread = f.read(20)\n",
    "    print(fread)\n",
    "    print(f'The current position within the file is {f.tell()}')"
   ]
  },
  {
   "cell_type": "markdown",
   "id": "f7d82cd3",
   "metadata": {},
   "source": [
    "The seek(offset[, from]) method changes the current file position. The offset argument indicates the number of bytes to be moved. The from argument specifies the reference position from where the bytes are to be moved.\n",
    "\n",
    "If from is set to 0, it means use the beginning of the file as the reference position and 1 means use the current position as the reference position and if it is set to 2 then the end of the file would be taken as the reference position."
   ]
  },
  {
   "cell_type": "code",
   "execution_count": 11,
   "id": "f13c8b75",
   "metadata": {},
   "outputs": [
    {
     "name": "stdout",
     "output_type": "stream",
     "text": [
      "the total length of file is 51\n",
      "hello \n",
      "t**his is a** sample **text fil**e.\n",
      "say h**i to pyt**hon**"
     ]
    }
   ],
   "source": [
    "size_to_read = 8\n",
    "\n",
    "with open('sample.txt', \"r\") as f:\n",
    "    print(f'the total length of file is {len(f.read())}')\n",
    "    \n",
    "    f.seek(0,0)\n",
    "    \n",
    "    f_contents = f.read(size_to_read)\n",
    "    while len(f_contents) > 0:\n",
    "        print(f_contents, end=\"**\")\n",
    "        f_contents = f.read(size_to_read)"
   ]
  },
  {
   "cell_type": "markdown",
   "id": "f9f7017f",
   "metadata": {},
   "source": [
    "## Write files"
   ]
  },
  {
   "cell_type": "code",
   "execution_count": 12,
   "id": "bf1acdb1",
   "metadata": {},
   "outputs": [],
   "source": [
    "with open('sample.txt', 'r') as rf:\n",
    "    with open('sample2.txt', 'w') as wf:\n",
    "        for line in rf:\n",
    "            wf.write(line)"
   ]
  },
  {
   "cell_type": "code",
   "execution_count": 13,
   "id": "fa02efbc",
   "metadata": {},
   "outputs": [
    {
     "name": "stdout",
     "output_type": "stream",
     "text": [
      "hello \n",
      "this is a sample text file.\n",
      "say hi to python\n"
     ]
    }
   ],
   "source": [
    "with open('sample2.txt', 'r') as f:\n",
    "    fread = f.read()\n",
    "    print(fread)"
   ]
  },
  {
   "cell_type": "markdown",
   "id": "509c8718",
   "metadata": {},
   "source": [
    "To write image file we open them in binary mode"
   ]
  },
  {
   "cell_type": "code",
   "execution_count": 14,
   "id": "bf0dcb44",
   "metadata": {},
   "outputs": [
    {
     "ename": "UnicodeDecodeError",
     "evalue": "'charmap' codec can't decode byte 0x81 in position 319: character maps to <undefined>",
     "output_type": "error",
     "traceback": [
      "\u001b[1;31m---------------------------------------------------------------------------\u001b[0m",
      "\u001b[1;31mUnicodeDecodeError\u001b[0m                        Traceback (most recent call last)",
      "\u001b[1;32m<ipython-input-14-37f892c6282d>\u001b[0m in \u001b[0;36m<module>\u001b[1;34m\u001b[0m\n\u001b[0;32m      3\u001b[0m \u001b[1;32mwith\u001b[0m \u001b[0mopen\u001b[0m\u001b[1;33m(\u001b[0m\u001b[1;34m'lena.jpg'\u001b[0m\u001b[1;33m,\u001b[0m \u001b[1;34m'r'\u001b[0m\u001b[1;33m)\u001b[0m \u001b[1;32mas\u001b[0m \u001b[0mrf\u001b[0m\u001b[1;33m:\u001b[0m\u001b[1;33m\u001b[0m\u001b[1;33m\u001b[0m\u001b[0m\n\u001b[0;32m      4\u001b[0m     \u001b[1;32mwith\u001b[0m \u001b[0mopen\u001b[0m\u001b[1;33m(\u001b[0m\u001b[1;34m'lena_copy.jpg'\u001b[0m\u001b[1;33m,\u001b[0m \u001b[1;34m'w'\u001b[0m\u001b[1;33m)\u001b[0m \u001b[1;32mas\u001b[0m \u001b[0mwf\u001b[0m\u001b[1;33m:\u001b[0m\u001b[1;33m\u001b[0m\u001b[1;33m\u001b[0m\u001b[0m\n\u001b[1;32m----> 5\u001b[1;33m         \u001b[1;32mfor\u001b[0m \u001b[0mline\u001b[0m \u001b[1;32min\u001b[0m \u001b[0mrf\u001b[0m\u001b[1;33m:\u001b[0m\u001b[1;33m\u001b[0m\u001b[1;33m\u001b[0m\u001b[0m\n\u001b[0m\u001b[0;32m      6\u001b[0m             \u001b[0mwf\u001b[0m\u001b[1;33m.\u001b[0m\u001b[0mwrite\u001b[0m\u001b[1;33m(\u001b[0m\u001b[0mline\u001b[0m\u001b[1;33m)\u001b[0m\u001b[1;33m\u001b[0m\u001b[1;33m\u001b[0m\u001b[0m\n",
      "\u001b[1;32mc:\\users\\dinesh vashisth\\appdata\\local\\programs\\python\\python39\\lib\\encodings\\cp1252.py\u001b[0m in \u001b[0;36mdecode\u001b[1;34m(self, input, final)\u001b[0m\n\u001b[0;32m     21\u001b[0m \u001b[1;32mclass\u001b[0m \u001b[0mIncrementalDecoder\u001b[0m\u001b[1;33m(\u001b[0m\u001b[0mcodecs\u001b[0m\u001b[1;33m.\u001b[0m\u001b[0mIncrementalDecoder\u001b[0m\u001b[1;33m)\u001b[0m\u001b[1;33m:\u001b[0m\u001b[1;33m\u001b[0m\u001b[1;33m\u001b[0m\u001b[0m\n\u001b[0;32m     22\u001b[0m     \u001b[1;32mdef\u001b[0m \u001b[0mdecode\u001b[0m\u001b[1;33m(\u001b[0m\u001b[0mself\u001b[0m\u001b[1;33m,\u001b[0m \u001b[0minput\u001b[0m\u001b[1;33m,\u001b[0m \u001b[0mfinal\u001b[0m\u001b[1;33m=\u001b[0m\u001b[1;32mFalse\u001b[0m\u001b[1;33m)\u001b[0m\u001b[1;33m:\u001b[0m\u001b[1;33m\u001b[0m\u001b[1;33m\u001b[0m\u001b[0m\n\u001b[1;32m---> 23\u001b[1;33m         \u001b[1;32mreturn\u001b[0m \u001b[0mcodecs\u001b[0m\u001b[1;33m.\u001b[0m\u001b[0mcharmap_decode\u001b[0m\u001b[1;33m(\u001b[0m\u001b[0minput\u001b[0m\u001b[1;33m,\u001b[0m\u001b[0mself\u001b[0m\u001b[1;33m.\u001b[0m\u001b[0merrors\u001b[0m\u001b[1;33m,\u001b[0m\u001b[0mdecoding_table\u001b[0m\u001b[1;33m)\u001b[0m\u001b[1;33m[\u001b[0m\u001b[1;36m0\u001b[0m\u001b[1;33m]\u001b[0m\u001b[1;33m\u001b[0m\u001b[1;33m\u001b[0m\u001b[0m\n\u001b[0m\u001b[0;32m     24\u001b[0m \u001b[1;33m\u001b[0m\u001b[0m\n\u001b[0;32m     25\u001b[0m \u001b[1;32mclass\u001b[0m \u001b[0mStreamWriter\u001b[0m\u001b[1;33m(\u001b[0m\u001b[0mCodec\u001b[0m\u001b[1;33m,\u001b[0m\u001b[0mcodecs\u001b[0m\u001b[1;33m.\u001b[0m\u001b[0mStreamWriter\u001b[0m\u001b[1;33m)\u001b[0m\u001b[1;33m:\u001b[0m\u001b[1;33m\u001b[0m\u001b[1;33m\u001b[0m\u001b[0m\n",
      "\u001b[1;31mUnicodeDecodeError\u001b[0m: 'charmap' codec can't decode byte 0x81 in position 319: character maps to <undefined>"
     ]
    }
   ],
   "source": [
    "# open without binary mode\n",
    "\n",
    "with open('lena.jpg', 'r') as rf:\n",
    "    with open('lena_copy.jpg', 'w') as wf:\n",
    "        for line in rf:\n",
    "            wf.write(line)"
   ]
  },
  {
   "cell_type": "code",
   "execution_count": 15,
   "id": "2edda7ec",
   "metadata": {},
   "outputs": [],
   "source": [
    "# open in binary mode\n",
    "\n",
    "with open('lena.jpg', 'rb') as rf:\n",
    "    with open('lena_copy.jpg', 'wb') as wf:\n",
    "        for line in rf:\n",
    "            wf.write(line)"
   ]
  },
  {
   "cell_type": "markdown",
   "id": "9e0107c4",
   "metadata": {},
   "source": [
    "# OS module"
   ]
  },
  {
   "cell_type": "code",
   "execution_count": 16,
   "id": "5fe7520c",
   "metadata": {},
   "outputs": [],
   "source": [
    "import os"
   ]
  },
  {
   "cell_type": "markdown",
   "id": "7a39c15c",
   "metadata": {},
   "source": [
    "### Renaming file"
   ]
  },
  {
   "cell_type": "code",
   "execution_count": 17,
   "id": "bdda4b74",
   "metadata": {},
   "outputs": [],
   "source": [
    "os.rename('sample2.txt', 'test.txt')"
   ]
  },
  {
   "cell_type": "code",
   "execution_count": 18,
   "id": "05a0f9f7",
   "metadata": {},
   "outputs": [
    {
     "ename": "FileNotFoundError",
     "evalue": "[Errno 2] No such file or directory: 'sample2.txt'",
     "output_type": "error",
     "traceback": [
      "\u001b[1;31m---------------------------------------------------------------------------\u001b[0m",
      "\u001b[1;31mFileNotFoundError\u001b[0m                         Traceback (most recent call last)",
      "\u001b[1;32m<ipython-input-18-db3c230931ba>\u001b[0m in \u001b[0;36m<module>\u001b[1;34m\u001b[0m\n\u001b[1;32m----> 1\u001b[1;33m \u001b[1;32mwith\u001b[0m \u001b[0mopen\u001b[0m\u001b[1;33m(\u001b[0m\u001b[1;34m'sample2.txt'\u001b[0m\u001b[1;33m,\u001b[0m \u001b[1;34m\"r\"\u001b[0m\u001b[1;33m)\u001b[0m \u001b[1;32mas\u001b[0m \u001b[0mf\u001b[0m\u001b[1;33m:\u001b[0m\u001b[1;33m\u001b[0m\u001b[1;33m\u001b[0m\u001b[0m\n\u001b[0m\u001b[0;32m      2\u001b[0m     \u001b[1;32mfor\u001b[0m \u001b[0mline\u001b[0m \u001b[1;32min\u001b[0m \u001b[0mf\u001b[0m\u001b[1;33m:\u001b[0m\u001b[1;33m\u001b[0m\u001b[1;33m\u001b[0m\u001b[0m\n\u001b[0;32m      3\u001b[0m         \u001b[0mprint\u001b[0m\u001b[1;33m(\u001b[0m\u001b[0mline\u001b[0m\u001b[1;33m)\u001b[0m\u001b[1;33m\u001b[0m\u001b[1;33m\u001b[0m\u001b[0m\n",
      "\u001b[1;31mFileNotFoundError\u001b[0m: [Errno 2] No such file or directory: 'sample2.txt'"
     ]
    }
   ],
   "source": [
    "with open('sample2.txt', \"r\") as f:\n",
    "    for line in f:\n",
    "        print(line)"
   ]
  },
  {
   "cell_type": "code",
   "execution_count": 19,
   "id": "cb68267a",
   "metadata": {},
   "outputs": [
    {
     "name": "stdout",
     "output_type": "stream",
     "text": [
      "hello \n",
      "\n",
      "this is a sample text file.\n",
      "\n",
      "say hi to python\n"
     ]
    }
   ],
   "source": [
    "with open('test.txt', \"r\") as f:\n",
    "    for line in f:\n",
    "        print(line)"
   ]
  },
  {
   "cell_type": "markdown",
   "id": "39a8d613",
   "metadata": {},
   "source": [
    "### Removing file"
   ]
  },
  {
   "cell_type": "code",
   "execution_count": 20,
   "id": "01d9aa69",
   "metadata": {},
   "outputs": [],
   "source": [
    "os.remove('test.txt')"
   ]
  },
  {
   "cell_type": "code",
   "execution_count": 21,
   "id": "0c884b6a",
   "metadata": {},
   "outputs": [
    {
     "ename": "FileNotFoundError",
     "evalue": "[Errno 2] No such file or directory: 'test.txt'",
     "output_type": "error",
     "traceback": [
      "\u001b[1;31m---------------------------------------------------------------------------\u001b[0m",
      "\u001b[1;31mFileNotFoundError\u001b[0m                         Traceback (most recent call last)",
      "\u001b[1;32m<ipython-input-21-88fd22fc15b3>\u001b[0m in \u001b[0;36m<module>\u001b[1;34m\u001b[0m\n\u001b[1;32m----> 1\u001b[1;33m \u001b[1;32mwith\u001b[0m \u001b[0mopen\u001b[0m\u001b[1;33m(\u001b[0m\u001b[1;34m'test.txt'\u001b[0m\u001b[1;33m,\u001b[0m \u001b[1;34m\"r\"\u001b[0m\u001b[1;33m)\u001b[0m \u001b[1;32mas\u001b[0m \u001b[0mf\u001b[0m\u001b[1;33m:\u001b[0m\u001b[1;33m\u001b[0m\u001b[1;33m\u001b[0m\u001b[0m\n\u001b[0m\u001b[0;32m      2\u001b[0m     \u001b[1;32mfor\u001b[0m \u001b[0mline\u001b[0m \u001b[1;32min\u001b[0m \u001b[0mf\u001b[0m\u001b[1;33m:\u001b[0m\u001b[1;33m\u001b[0m\u001b[1;33m\u001b[0m\u001b[0m\n\u001b[0;32m      3\u001b[0m         \u001b[0mprint\u001b[0m\u001b[1;33m(\u001b[0m\u001b[0mline\u001b[0m\u001b[1;33m)\u001b[0m\u001b[1;33m\u001b[0m\u001b[1;33m\u001b[0m\u001b[0m\n",
      "\u001b[1;31mFileNotFoundError\u001b[0m: [Errno 2] No such file or directory: 'test.txt'"
     ]
    }
   ],
   "source": [
    "with open('test.txt', \"r\") as f:\n",
    "    for line in f:\n",
    "        print(line)"
   ]
  },
  {
   "cell_type": "markdown",
   "id": "2a9f4c27",
   "metadata": {},
   "source": [
    "### mkdir() method"
   ]
  },
  {
   "cell_type": "code",
   "execution_count": 22,
   "id": "30d5fcbc",
   "metadata": {},
   "outputs": [],
   "source": [
    "os.mkdir(\"test\")"
   ]
  },
  {
   "cell_type": "markdown",
   "id": "1349e07c",
   "metadata": {},
   "source": [
    "### chdir() method\n",
    "The chdir() method takes an argument, which is the name of the directory that you want to make the current directory."
   ]
  },
  {
   "cell_type": "code",
   "execution_count": 23,
   "id": "1edb86a1",
   "metadata": {},
   "outputs": [],
   "source": [
    "os.chdir('test')"
   ]
  },
  {
   "cell_type": "code",
   "execution_count": 24,
   "id": "18843732",
   "metadata": {},
   "outputs": [
    {
     "name": "stdout",
     "output_type": "stream",
     "text": [
      "C:\\jupyter\\test\n"
     ]
    }
   ],
   "source": [
    "# getcwd displays the current working directory\n",
    "\n",
    "print(os.getcwd())"
   ]
  },
  {
   "cell_type": "markdown",
   "id": "7514d4e3",
   "metadata": {},
   "source": [
    "### rmdir() method\n",
    "The rmdir() method deletes the directory, which is passed as an argument in the method."
   ]
  },
  {
   "cell_type": "code",
   "execution_count": 25,
   "id": "97a21185",
   "metadata": {},
   "outputs": [],
   "source": [
    "# this will create testfile in test directory because it is the current dir \n",
    "\n",
    "with open('testfile.txt', \"w\") as f:\n",
    "    str=\"hye this text file in test dir\"\n",
    "    f.write(str)"
   ]
  },
  {
   "cell_type": "code",
   "execution_count": 26,
   "id": "2cd1f8a2",
   "metadata": {},
   "outputs": [
    {
     "ename": "FileNotFoundError",
     "evalue": "[WinError 2] The system cannot find the file specified: 'test'",
     "output_type": "error",
     "traceback": [
      "\u001b[1;31m---------------------------------------------------------------------------\u001b[0m",
      "\u001b[1;31mFileNotFoundError\u001b[0m                         Traceback (most recent call last)",
      "\u001b[1;32m<ipython-input-26-c4255042d84c>\u001b[0m in \u001b[0;36m<module>\u001b[1;34m\u001b[0m\n\u001b[1;32m----> 1\u001b[1;33m \u001b[0mos\u001b[0m\u001b[1;33m.\u001b[0m\u001b[0mrmdir\u001b[0m\u001b[1;33m(\u001b[0m\u001b[1;34m'test'\u001b[0m\u001b[1;33m)\u001b[0m\u001b[1;33m\u001b[0m\u001b[1;33m\u001b[0m\u001b[0m\n\u001b[0m",
      "\u001b[1;31mFileNotFoundError\u001b[0m: [WinError 2] The system cannot find the file specified: 'test'"
     ]
    }
   ],
   "source": [
    "os.rmdir('test')"
   ]
  },
  {
   "cell_type": "code",
   "execution_count": 27,
   "id": "26f9ee75",
   "metadata": {},
   "outputs": [],
   "source": [
    "os.remove('testfile.txt')"
   ]
  },
  {
   "cell_type": "code",
   "execution_count": 28,
   "id": "fa781a8f",
   "metadata": {},
   "outputs": [],
   "source": [
    "os.chdir('C:/jupyter')"
   ]
  },
  {
   "cell_type": "code",
   "execution_count": 29,
   "id": "bab725c4",
   "metadata": {},
   "outputs": [
    {
     "name": "stdout",
     "output_type": "stream",
     "text": [
      "C:\\jupyter\n"
     ]
    }
   ],
   "source": [
    "print(os.getcwd())"
   ]
  },
  {
   "cell_type": "code",
   "execution_count": 30,
   "id": "fbd3ef03",
   "metadata": {},
   "outputs": [],
   "source": [
    "os.rmdir('test')"
   ]
  }
 ],
 "metadata": {
  "kernelspec": {
   "display_name": "Python 3",
   "language": "python",
   "name": "python3"
  },
  "language_info": {
   "codemirror_mode": {
    "name": "ipython",
    "version": 3
   },
   "file_extension": ".py",
   "mimetype": "text/x-python",
   "name": "python",
   "nbconvert_exporter": "python",
   "pygments_lexer": "ipython3",
   "version": "3.9.5"
  }
 },
 "nbformat": 4,
 "nbformat_minor": 5
}
