{
 "cells": [
  {
   "cell_type": "markdown",
   "id": "9a0235a3",
   "metadata": {},
   "source": [
    "There are 2 modes in the Jupyter Notebook App: command mode and edit mode. I’ll start with the shortcuts shared between the two modes.\n",
    "\n",
    "**Shortcuts in both modes:**\n",
    "* `Shift + Enter` run the current cell, select below\n",
    "* `Ctrl + Enter` run selected cells\n",
    "* `Alt + Enter` run the current cell, insert below\n",
    "* `Ctrl + S` save and checkpoint\n",
    "\n",
    "**While in command mode (press Esc to activate):**\n",
    "* `Enter` take you into edit mode\n",
    "* `H` show all shortcuts\n",
    "* `Up` select cell above\n",
    "* `Down` select cell below\n",
    "* `Shift + Up` extend selected cells above\n",
    "* `Shift + Down` extend selected cells below\n",
    "* `A` insert cell above\n",
    "* `B` insert cell below\n",
    "* `X` cut selected cells\n",
    "* `C` copy selected cells\n",
    "* `V` paste cells below\n",
    "* `Shift + V` paste cells above\n",
    "* `D, D` (press the key twice) delete selected cells\n",
    "* `Z` undo cell deletion\n",
    "* `S` Save and Checkpoint\n",
    "* `Y` change the cell type to Code\n",
    "* `M` change the cell type to Markdown\n",
    "* `P` open the command palette.\n",
    "* `Shift + Space` scroll notebook up\n",
    "* `Space` scroll notebook down\n",
    "\n",
    "**While in edit mode (pressEnter to activate)**\n",
    "* `Esc` take you into command mode\n",
    "* `Tab` code completion or indent\n",
    "* `Shift + Tab` tooltip\n",
    "* `Ctrl + ]` indent\n",
    "* `Ctrl + [` dedent\n",
    "* `Ctrl + A` select all\n",
    "* `Ctrl + Z` undo\n",
    "* `Ctrl + Shift + Z` or `Ctrl + Y` redo\n",
    "* `Ctrl + Home` go to cell start\n",
    "* `Ctrl + End` go to cell end\n",
    "* `Ctrl + Left` go one word left\n",
    "* `Ctrl + Right` go one word right\n",
    "* `Ctrl + Shift + P` open the command palette\n",
    "* `Down` move cursor down\n",
    "* `Up` move cursor up"
   ]
  }
 ],
 "metadata": {
  "kernelspec": {
   "display_name": "Python 3",
   "language": "python",
   "name": "python3"
  },
  "language_info": {
   "codemirror_mode": {
    "name": "ipython",
    "version": 3
   },
   "file_extension": ".py",
   "mimetype": "text/x-python",
   "name": "python",
   "nbconvert_exporter": "python",
   "pygments_lexer": "ipython3",
   "version": "3.9.5"
  }
 },
 "nbformat": 4,
 "nbformat_minor": 5
}
